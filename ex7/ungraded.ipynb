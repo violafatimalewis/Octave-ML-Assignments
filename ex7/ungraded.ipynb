{
 "cells": [
  {
   "cell_type": "code",
   "execution_count": null,
   "metadata": {},
   "outputs": [],
   "source": [
    "%% === Part 8(a): Optional (ungraded) Exercise: PCA for Visualization ===\n",
    "%  One useful application of PCA is to use it to visualize high-dimensional\n",
    "%  data. In the last K-Means exercise you ran K-Means on 3-dimensional \n",
    "%  pixel colors of an image. We first visualize this output in 3D, and then\n",
    "%  apply PCA to obtain a visualization in 2D.\n",
    "\n",
    "close all; close all; clc\n",
    "\n",
    "% Reload the image from the previous exercise and run K-Means on it\n",
    "% For this to work, you need to complete the K-Means assignment first\n",
    "A = double(imread('bird_small.png'));\n",
    "\n",
    "% If imread does not work for you, you can try instead\n",
    "%   load ('bird_small.mat');\n",
    "\n",
    "A = A / 255;\n",
    "img_size = size(A);\n",
    "X = reshape(A, img_size(1) * img_size(2), 3);\n",
    "K = 16; \n",
    "max_iters = 10;\n",
    "initial_centroids = kMeansInitCentroids(X, K);\n",
    "[centroids, idx] = runkMeans(X, initial_centroids, max_iters);\n",
    "\n",
    "%  Sample 1000 random indexes (since working with all the data is\n",
    "%  too expensive. If you have a fast computer, you may increase this.\n",
    "sel = floor(rand(1000, 1) * size(X, 1)) + 1;\n",
    "\n",
    "%  Setup Color Palette\n",
    "palette = hsv(K);\n",
    "colors = palette(idx(sel), :);\n",
    "\n",
    "%  Visualize the data and centroid memberships in 3D\n",
    "figure(5);\n",
    "scatter3(X(sel, 1), X(sel, 2), X(sel, 3), 10, colors);\n",
    "title('Pixel dataset plotted in 3D. Color shows centroid memberships');\n",
    "fprintf('Program paused. Press enter to continue.\\n');\n",
    "pause;\n",
    "\n",
    "%% === Part 8(b): Optional (ungraded) Exercise: PCA for Visualization ===\n",
    "% Use PCA to project this cloud to 2D for visualization\n",
    "\n",
    "% Subtract the mean to use PCA\n",
    "[X_norm, mu, sigma] = featureNormalize(X);\n",
    "\n",
    "% PCA and project the data to 2D\n",
    "[U, S] = pca(X_norm);\n",
    "Z = projectData(X_norm, U, 2);\n",
    "\n",
    "% Plot in 2D\n",
    "figure(6);\n",
    "plotDataPoints(Z(sel, :), idx(sel), K);\n",
    "title('Pixel dataset plotted in 2D, using PCA for dimensionality reduction');\n",
    "fprintf('Program paused. Press enter to continue.\\n');\n",
    "pause;\n"
   ]
  }
 ],
 "metadata": {
  "kernelspec": {
   "display_name": "Octave",
   "language": "octave",
   "name": "octave"
  },
  "language_info": {
   "file_extension": ".m",
   "help_links": [
    {
     "text": "GNU Octave",
     "url": "https://www.gnu.org/software/octave/support.html"
    },
    {
     "text": "Octave Kernel",
     "url": "https://github.com/Calysto/octave_kernel"
    },
    {
     "text": "MetaKernel Magics",
     "url": "https://github.com/calysto/metakernel/blob/master/metakernel/magics/README.md"
    }
   ],
   "mimetype": "text/x-octave",
   "name": "octave",
   "version": "4.4.1"
  }
 },
 "nbformat": 4,
 "nbformat_minor": 2
}
