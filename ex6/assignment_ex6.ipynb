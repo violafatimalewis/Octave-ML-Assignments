{
 "cells": [
  {
   "cell_type": "code",
   "execution_count": null,
   "metadata": {},
   "outputs": [
    {
     "name": "stdout",
     "output_type": "stream",
     "text": [
      "\n",
      "Preprocessing sample email (emailSample1.txt)\n",
      "\n",
      "==== Processed Email ====\n",
      "\n",
      "anyon know how much it cost to host a web portal well it depend on how mani \n",
      "visitor you re expect thi can be anywher from less than number buck a month \n",
      "to a coupl of dollarnumb you should checkout httpaddr or perhap amazon ecnumb \n",
      "if your run someth big to unsubscrib yourself from thi mail list send an \n",
      "email to emailaddr \n",
      "\n",
      "=========================\n",
      "Word Indices: \n",
      " 86 916 794 1077 883 370 1699 790 1822 1831 883 431 1171 794 1002 1893 1364 592 1676 238 162 89 688 945 1663 1120 1062 1699 375 1162 479 1893 1510 799 1182 1237 810 1895 1440 1547 181 1699 1758 1896 688 1676 992 961 1477 71 530 1699 531\n",
      "\n",
      "Program paused. Press enter to continue.\n",
      "Paused, enter any value to continue\n",
      "\n",
      "Extracting features from sample email (emailSample1.txt)\n",
      "\n",
      "==== Processed Email ====\n",
      "\n",
      "anyon know how much it cost to host a web portal well it depend on how mani \n",
      "visitor you re expect thi can be anywher from less than number buck a month \n",
      "to a coupl of dollarnumb you should checkout httpaddr or perhap amazon ecnumb \n",
      "if your run someth big to unsubscrib yourself from thi mail list send an \n",
      "email to emailaddr \n",
      "\n",
      "=========================\n",
      "Length of feature vector: 1899\n",
      "Number of non-zero entries: 45\n",
      "Program paused. Press enter to continue.\n",
      "Paused, enter any value to continue\n",
      "\n",
      "Training Linear SVM (Spam Classification)\n",
      "(this may take 1 to 2 minutes) ...\n",
      "\n",
      "Training ......................................................................\n",
      "...............................................................................\n",
      "......................................................... Done! \n",
      "\n",
      "Training Accuracy: 99.850000\n",
      "\n",
      "Evaluating the trained Linear SVM on a test set ...\n",
      "Test Accuracy: 98.900000\n"
     ]
    }
   ],
   "source": [
    "%ex6()\n",
    "ex6_spam()\n",
    "%submit()"
   ]
  },
  {
   "cell_type": "code",
   "execution_count": null,
   "metadata": {},
   "outputs": [],
   "source": []
  }
 ],
 "metadata": {
  "kernelspec": {
   "display_name": "Octave",
   "language": "octave",
   "name": "octave"
  },
  "language_info": {
   "file_extension": ".m",
   "help_links": [
    {
     "text": "GNU Octave",
     "url": "https://www.gnu.org/software/octave/support.html"
    },
    {
     "text": "Octave Kernel",
     "url": "https://github.com/Calysto/octave_kernel"
    },
    {
     "text": "MetaKernel Magics",
     "url": "https://github.com/calysto/metakernel/blob/master/metakernel/magics/README.md"
    }
   ],
   "mimetype": "text/x-octave",
   "name": "octave",
   "version": "4.4.1"
  }
 },
 "nbformat": 4,
 "nbformat_minor": 2
}
