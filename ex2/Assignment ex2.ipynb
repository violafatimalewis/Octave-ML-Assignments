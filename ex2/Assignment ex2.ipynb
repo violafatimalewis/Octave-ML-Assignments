{
 "cells": [
  {
   "cell_type": "code",
   "execution_count": 1,
   "metadata": {},
   "outputs": [
    {
     "name": "stdout",
     "output_type": "stream",
     "text": [
      "== Submitting solutions | Logistic Regression...\n",
      "Login (email address):viola.lewis@gmail.com\n",
      "Token:b5OS3vMe7e5U7NJX\n",
      "== \n",
      "==                                   Part Name |     Score | Feedback\n",
      "==                                   --------- |     ----- | --------\n",
      "==                            Sigmoid Function |   5 /   5 | Nice work!\n",
      "==                    Logistic Regression Cost |  30 /  30 | Nice work!\n",
      "==                Logistic Regression Gradient |  30 /  30 | Nice work!\n",
      "==                                     Predict |   5 /   5 | Nice work!\n",
      "==        Regularized Logistic Regression Cost |  15 /  15 | Nice work!\n",
      "==    Regularized Logistic Regression Gradient |  15 /  15 | Nice work!\n",
      "==                                   --------------------------------\n",
      "==                                             | 100 / 100 | \n",
      "== \n"
     ]
    }
   ],
   "source": [
    "%submit()\n",
    "%ex2()\n",
    "%ex2_reg"
   ]
  },
  {
   "cell_type": "code",
   "execution_count": null,
   "metadata": {},
   "outputs": [],
   "source": [
    "\n",
    "\n",
    "\n",
    "\n"
   ]
  }
 ],
 "metadata": {
  "kernelspec": {
   "display_name": "Octave",
   "language": "octave",
   "name": "octave"
  },
  "language_info": {
   "file_extension": ".m",
   "help_links": [
    {
     "text": "GNU Octave",
     "url": "https://www.gnu.org/software/octave/support.html"
    },
    {
     "text": "Octave Kernel",
     "url": "https://github.com/Calysto/octave_kernel"
    },
    {
     "text": "MetaKernel Magics",
     "url": "https://github.com/calysto/metakernel/blob/master/metakernel/magics/README.md"
    }
   ],
   "mimetype": "text/x-octave",
   "name": "octave",
   "version": "4.4.1"
  }
 },
 "nbformat": 4,
 "nbformat_minor": 2
}
