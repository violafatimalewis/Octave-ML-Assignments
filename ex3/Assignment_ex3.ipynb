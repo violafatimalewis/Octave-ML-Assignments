{
 "cells": [
  {
   "cell_type": "code",
   "execution_count": 14,
   "metadata": {},
   "outputs": [
    {
     "name": "stdout",
     "output_type": "stream",
     "text": [
      "== Submitting solutions | Multi-class Classification and Neural Networks...\n",
      "Login (email address):viola.lewis@gmail.com\n",
      "Token:cOcrbH2RO93H8tg7\n",
      "Iteration    27 | Cost: 3.391340e-01\n",
      "Iteration    24 | Cost: 6.631438e-02\n",
      "Iteration    31 | Cost: 1.002636e-01\n",
      "Iteration    18 | Cost: 3.598119e-01\n",
      "== \n",
      "==                                   Part Name |     Score | Feedback\n",
      "==                                   --------- |     ----- | --------\n",
      "==             Regularized Logistic Regression |  30 /  30 | Nice work!\n",
      "==              One-vs-All Classifier Training |  20 /  20 | Nice work!\n",
      "==            One-vs-All Classifier Prediction |  20 /  20 | Nice work!\n",
      "==          Neural Network Prediction Function |  30 /  30 | Nice work!\n",
      "==                                   --------------------------------\n",
      "==                                             | 100 / 100 | \n",
      "== \n"
     ]
    }
   ],
   "source": [
    "%ex3()\n",
    "ex3_nn()\n",
    "%submit()"
   ]
  },
  {
   "cell_type": "code",
   "execution_count": null,
   "metadata": {},
   "outputs": [],
   "source": []
  }
 ],
 "metadata": {
  "kernelspec": {
   "display_name": "Octave",
   "language": "octave",
   "name": "octave"
  },
  "language_info": {
   "file_extension": ".m",
   "help_links": [
    {
     "text": "GNU Octave",
     "url": "https://www.gnu.org/software/octave/support.html"
    },
    {
     "text": "Octave Kernel",
     "url": "https://github.com/Calysto/octave_kernel"
    },
    {
     "text": "MetaKernel Magics",
     "url": "https://github.com/calysto/metakernel/blob/master/metakernel/magics/README.md"
    }
   ],
   "mimetype": "text/x-octave",
   "name": "octave",
   "version": "4.4.1"
  }
 },
 "nbformat": 4,
 "nbformat_minor": 2
}
