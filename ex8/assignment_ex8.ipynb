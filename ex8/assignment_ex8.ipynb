{
 "cells": [
  {
   "cell_type": "code",
   "execution_count": 3,
   "metadata": {},
   "outputs": [
    {
     "name": "stdout",
     "output_type": "stream",
     "text": [
      "== Submitting solutions | Anomaly Detection and Recommender Systems...\n",
      "Login (email address):viola.lewis@gmail.com\n",
      "Token:qmBJ3RuBF5jm7Tf5\n",
      "warning: division by zero\n",
      "== \n",
      "==                                   Part Name |     Score | Feedback\n",
      "==                                   --------- |     ----- | --------\n",
      "==                Estimate Gaussian Parameters |  15 /  15 | Nice work!\n",
      "==                            Select Threshold |  15 /  15 | Nice work!\n",
      "==                Collaborative Filtering Cost |  20 /  20 | Nice work!\n",
      "==            Collaborative Filtering Gradient |  30 /  30 | Nice work!\n",
      "==                            Regularized Cost |  10 /  10 | Nice work!\n",
      "==                        Regularized Gradient |  10 /  10 | Nice work!\n",
      "==                                   --------------------------------\n",
      "==                                             | 100 / 100 | \n",
      "== \n"
     ]
    }
   ],
   "source": [
    "%ex8_cofi()\n",
    "submit()"
   ]
  },
  {
   "cell_type": "code",
   "execution_count": null,
   "metadata": {},
   "outputs": [],
   "source": []
  }
 ],
 "metadata": {
  "kernelspec": {
   "display_name": "Octave",
   "language": "octave",
   "name": "octave"
  },
  "language_info": {
   "file_extension": ".m",
   "help_links": [
    {
     "text": "GNU Octave",
     "url": "https://www.gnu.org/software/octave/support.html"
    },
    {
     "text": "Octave Kernel",
     "url": "https://github.com/Calysto/octave_kernel"
    },
    {
     "text": "MetaKernel Magics",
     "url": "https://github.com/calysto/metakernel/blob/master/metakernel/magics/README.md"
    }
   ],
   "mimetype": "text/x-octave",
   "name": "octave",
   "version": "4.4.1"
  }
 },
 "nbformat": 4,
 "nbformat_minor": 2
}
